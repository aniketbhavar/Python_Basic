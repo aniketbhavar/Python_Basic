{
 "cells": [
  {
   "cell_type": "markdown",
   "id": "a615b862",
   "metadata": {},
   "source": [
    "# If-else Statement\n"
   ]
  },
  {
   "cell_type": "code",
   "execution_count": 1,
   "id": "67063da0",
   "metadata": {},
   "outputs": [],
   "source": [
    "# We can use If-else statement in a specific point to code give two possibility"
   ]
  },
  {
   "cell_type": "code",
   "execution_count": 4,
   "id": "c9511332",
   "metadata": {},
   "outputs": [
    {
     "name": "stdout",
     "output_type": "stream",
     "text": [
      "abe email bol:-aniketbhavar0601@gmail.com\n",
      "abe password bhi bol:1234\n",
      "Welcome Bro....\n"
     ]
    }
   ],
   "source": [
    "# 1. example of if-else statement-2 Possibility\n",
    "email= input(\"abe email bol:-\")\n",
    "password=input(\"abe password bhi bol:\")\n",
    "\n",
    "if email==\"aniketbhavar0601@gmail.com\" and password==\"1234\" :\n",
    "    print(\"Welcome Bro....\")\n",
    "else:\n",
    "    print(\"abe tune password incorrect bola \")"
   ]
  },
  {
   "cell_type": "code",
   "execution_count": 3,
   "id": "acaa2fe6",
   "metadata": {},
   "outputs": [],
   "source": [
    "# 2. example of if else statement-more than two possibility\n",
    "email= input(\"abe email bol:-\")\n",
    "password=input(\"abe password bhi bol:\")\n",
    "\n",
    "if email==\"aniketbhavar0601@gmail.com\" and password==\"1234\" :\n",
    "    print(\"Welcome\")\n",
    "elif\n",
    "    print(\"abe tune password incorrect bola \")"
   ]
  },
  {
   "cell_type": "code",
   "execution_count": null,
   "id": "ee29b6b5",
   "metadata": {},
   "outputs": [],
   "source": []
  }
 ],
 "metadata": {
  "kernelspec": {
   "display_name": "Python 3 (ipykernel)",
   "language": "python",
   "name": "python3"
  },
  "language_info": {
   "codemirror_mode": {
    "name": "ipython",
    "version": 3
   },
   "file_extension": ".py",
   "mimetype": "text/x-python",
   "name": "python",
   "nbconvert_exporter": "python",
   "pygments_lexer": "ipython3",
   "version": "3.9.7"
  }
 },
 "nbformat": 4,
 "nbformat_minor": 5
}
