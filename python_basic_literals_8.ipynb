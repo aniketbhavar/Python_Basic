{
 "cells": [
  {
   "cell_type": "markdown",
   "id": "5ff9665e",
   "metadata": {},
   "source": [
    "# Literals"
   ]
  },
  {
   "cell_type": "raw",
   "id": "7ffeef38",
   "metadata": {},
   "source": [
    "Their are four types of literals.\n",
    "1)Numeric\n",
    "2)string\n",
    "3)Boolean\n",
    "4)Special"
   ]
  },
  {
   "cell_type": "code",
   "execution_count": 3,
   "id": "2efc2ce6",
   "metadata": {},
   "outputs": [
    {
     "name": "stdout",
     "output_type": "stream",
     "text": [
      "10 100 200 300\n"
     ]
    }
   ],
   "source": [
    "#1.Numeric\n",
    "a=0b1010 #binary literals\n",
    "b=100\n",
    "c=0o310 #octal Literals\n",
    "d=0x12c #hexadecimal literals.\n",
    "\n",
    "print(a,b,c,d)"
   ]
  },
  {
   "cell_type": "code",
   "execution_count": 4,
   "id": "00db1c78",
   "metadata": {},
   "outputs": [
    {
     "name": "stdout",
     "output_type": "stream",
     "text": [
      "5 150.0 0.0015\n"
     ]
    }
   ],
   "source": [
    "# float literals\n",
    "float=10-5\n",
    "float_1=1.5e2\n",
    "float_2=1.5e-3\n",
    "print(float,float_1,float_2)"
   ]
  },
  {
   "cell_type": "code",
   "execution_count": 6,
   "id": "21e1726d",
   "metadata": {},
   "outputs": [
    {
     "name": "stdout",
     "output_type": "stream",
     "text": [
      "(4+3.14j) 3.14 4.0\n"
     ]
    }
   ],
   "source": [
    "# complex litreals\n",
    "x=4+3.14j\n",
    "print(x,x.imag,x.real)"
   ]
  },
  {
   "cell_type": "code",
   "execution_count": 7,
   "id": "b56edc34",
   "metadata": {},
   "outputs": [],
   "source": [
    "#2 String literals\n",
    "string='this is python'\n",
    "string_1=\"this is python\"\n",
    "char=\"c\"\n",
    "multiple_str=\"\"\"This is multiple lines and other big code\"\"\""
   ]
  },
  {
   "cell_type": "code",
   "execution_count": 10,
   "id": "dba4b628",
   "metadata": {},
   "outputs": [
    {
     "data": {
      "text/plain": [
       "'\\x01f600\\x01f606\\x01f923'"
      ]
     },
     "execution_count": 10,
     "metadata": {},
     "output_type": "execute_result"
    }
   ],
   "source": [
    "unicode = u\"\\u0001f600\\u0001f606\\u0001f923\"\n",
    "unicode"
   ]
  },
  {
   "cell_type": "code",
   "execution_count": 12,
   "id": "63eb593c",
   "metadata": {},
   "outputs": [
    {
     "data": {
      "text/plain": [
       "'raw\\\\n string'"
      ]
     },
     "execution_count": 12,
     "metadata": {},
     "output_type": "execute_result"
    }
   ],
   "source": [
    "raw_str=r\"raw\\n string\"\n",
    "raw_str"
   ]
  },
  {
   "cell_type": "code",
   "execution_count": 13,
   "id": "8802e219",
   "metadata": {},
   "outputs": [
    {
     "name": "stdout",
     "output_type": "stream",
     "text": [
      "a: 5\n",
      "b: 10\n"
     ]
    }
   ],
   "source": [
    "#3. Boolean literals\n",
    "a=True + 4\n",
    "b=False + 10\n",
    "print(\"a:\",a)\n",
    "print(\"b:\",b)"
   ]
  },
  {
   "cell_type": "code",
   "execution_count": 14,
   "id": "cd7acf51",
   "metadata": {},
   "outputs": [
    {
     "name": "stdout",
     "output_type": "stream",
     "text": [
      "None\n"
     ]
    }
   ],
   "source": [
    "#4. Special Literals\n",
    "a=None\n",
    "print(a)"
   ]
  },
  {
   "cell_type": "code",
   "execution_count": null,
   "id": "e06028df",
   "metadata": {},
   "outputs": [],
   "source": []
  }
 ],
 "metadata": {
  "kernelspec": {
   "display_name": "Python 3 (ipykernel)",
   "language": "python",
   "name": "python3"
  },
  "language_info": {
   "codemirror_mode": {
    "name": "ipython",
    "version": 3
   },
   "file_extension": ".py",
   "mimetype": "text/x-python",
   "name": "python",
   "nbconvert_exporter": "python",
   "pygments_lexer": "ipython3",
   "version": "3.9.7"
  }
 },
 "nbformat": 4,
 "nbformat_minor": 5
}
