{
 "cells": [
  {
   "cell_type": "markdown",
   "id": "15717a33",
   "metadata": {},
   "source": [
    "# Operators"
   ]
  },
  {
   "cell_type": "raw",
   "id": "ff887f66",
   "metadata": {},
   "source": [
    "-Arithmetic operators\n",
    "-Comparison Operators\n",
    "-Logical operators\n",
    "-Bitwise operators\n",
    "-Assignment Operators\n",
    "-identity Operators\n",
    "-membership Operators"
   ]
  },
  {
   "cell_type": "code",
   "execution_count": 1,
   "id": "b4de9e8b",
   "metadata": {},
   "outputs": [
    {
     "name": "stdout",
     "output_type": "stream",
     "text": [
      "11\n",
      "-1\n",
      "30\n",
      "0.8333333333333334\n",
      "5\n",
      "15625\n",
      "2\n"
     ]
    }
   ],
   "source": [
    "#Arithematic Operators\n",
    "x=5\n",
    "y=6\n",
    "print(x+y)\n",
    "print(x-y)\n",
    "print(x*y)\n",
    "print(x/y)\n",
    "print(x%y)\n",
    "print(x**y)\n",
    "print(x//2)"
   ]
  },
  {
   "cell_type": "code",
   "execution_count": 2,
   "id": "a4581d7c",
   "metadata": {},
   "outputs": [
    {
     "name": "stdout",
     "output_type": "stream",
     "text": [
      "True\n",
      "False\n",
      "False\n",
      "True\n",
      "False\n",
      "True\n"
     ]
    }
   ],
   "source": [
    "#comparison Operators\n",
    "x=5\n",
    "y=2\n",
    "print(x>y)\n",
    "print(x<y)\n",
    "print(x<=y)\n",
    "print(x>=y)\n",
    "print(x==y)\n",
    "print(x!=y)"
   ]
  },
  {
   "cell_type": "code",
   "execution_count": 3,
   "id": "141248d8",
   "metadata": {},
   "outputs": [
    {
     "name": "stdout",
     "output_type": "stream",
     "text": [
      "True\n",
      "False\n",
      "True\n"
     ]
    }
   ],
   "source": [
    "#Logical Operators\n",
    "x=True\n",
    "y=False\n",
    "print(x or Y)\n",
    "print(x and y)\n",
    "print(not y)\n"
   ]
  },
  {
   "cell_type": "code",
   "execution_count": 6,
   "id": "549b6d5e",
   "metadata": {},
   "outputs": [
    {
     "name": "stdout",
     "output_type": "stream",
     "text": [
      "2\n",
      "3\n",
      "0\n",
      "24\n",
      "-3\n"
     ]
    }
   ],
   "source": [
    "#Bitwise Operators\n",
    "x=2\n",
    "y=3\n",
    "print(x & y)\n",
    "print(x|y)\n",
    "print(x>>2) #right shift operators\n",
    "print(y<<3) # left shift operators\n",
    "print(~x)"
   ]
  },
  {
   "cell_type": "code",
   "execution_count": 8,
   "id": "fc84dae4",
   "metadata": {},
   "outputs": [
    {
     "name": "stdout",
     "output_type": "stream",
     "text": [
      "3\n"
     ]
    }
   ],
   "source": [
    "#assignments Operators\n",
    "a=3    # so '=' sign is nothing but Assignment Operators\n",
    "print(a) "
   ]
  },
  {
   "cell_type": "code",
   "execution_count": null,
   "id": "765cb861",
   "metadata": {},
   "outputs": [],
   "source": []
  }
 ],
 "metadata": {
  "kernelspec": {
   "display_name": "Python 3 (ipykernel)",
   "language": "python",
   "name": "python3"
  },
  "language_info": {
   "codemirror_mode": {
    "name": "ipython",
    "version": 3
   },
   "file_extension": ".py",
   "mimetype": "text/x-python",
   "name": "python",
   "nbconvert_exporter": "python",
   "pygments_lexer": "ipython3",
   "version": "3.9.7"
  }
 },
 "nbformat": 4,
 "nbformat_minor": 5
}
