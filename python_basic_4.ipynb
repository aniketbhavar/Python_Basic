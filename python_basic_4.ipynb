{
 "cells": [
  {
   "cell_type": "code",
   "execution_count": 1,
   "id": "94c37c14",
   "metadata": {},
   "outputs": [],
   "source": [
    "def print_pattern():\n",
    "    size = 4\n",
    "    for i in range(size):\n",
    "        print(\"*\" * size)"
   ]
  },
  {
   "cell_type": "code",
   "execution_count": 2,
   "id": "d50f0e9c",
   "metadata": {},
   "outputs": [
    {
     "name": "stdout",
     "output_type": "stream",
     "text": [
      "****\n",
      "****\n",
      "****\n",
      "****\n"
     ]
    }
   ],
   "source": [
    "print_pattern()"
   ]
  },
  {
   "cell_type": "code",
   "execution_count": 3,
   "id": "28d0042e",
   "metadata": {},
   "outputs": [],
   "source": [
    "def print_pattern(num_rows):\n",
    "    for i in range(num_rows):\n",
    "        for num_cols in range(num_rows-i):\n",
    "            print(\"*\", end=\"\")\n",
    "        print()"
   ]
  },
  {
   "cell_type": "code",
   "execution_count": 4,
   "id": "71a8c4e0",
   "metadata": {},
   "outputs": [
    {
     "name": "stdout",
     "output_type": "stream",
     "text": [
      "***\n",
      "**\n",
      "*\n"
     ]
    }
   ],
   "source": [
    "print_pattern(3)"
   ]
  },
  {
   "cell_type": "code",
   "execution_count": 5,
   "id": "5fae0892",
   "metadata": {},
   "outputs": [
    {
     "name": "stdout",
     "output_type": "stream",
     "text": [
      "*****\n",
      "****\n",
      "***\n",
      "**\n",
      "*\n"
     ]
    }
   ],
   "source": [
    "print_pattern(5)"
   ]
  },
  {
   "cell_type": "code",
   "execution_count": 6,
   "id": "a8c53fd9",
   "metadata": {},
   "outputs": [
    {
     "name": "stdout",
     "output_type": "stream",
     "text": [
      "*********\n",
      "********\n",
      "*******\n",
      "******\n",
      "*****\n",
      "****\n",
      "***\n",
      "**\n",
      "*\n"
     ]
    }
   ],
   "source": [
    "print_pattern(9)"
   ]
  },
  {
   "cell_type": "code",
   "execution_count": 7,
   "id": "4a7ef79e",
   "metadata": {},
   "outputs": [],
   "source": [
    "def print_pattern(num_rows, char):\n",
    "\tfor i in range(num_rows):\n",
    "\t\tfor num_cols in range(num_rows-i):\n",
    "         \t\tprint(char, end=\"\")\n",
    "\t\tprint()"
   ]
  },
  {
   "cell_type": "code",
   "execution_count": 8,
   "id": "50765776",
   "metadata": {},
   "outputs": [
    {
     "name": "stdout",
     "output_type": "stream",
     "text": [
      "AAAAA\n",
      "AAAA\n",
      "AAA\n",
      "AA\n",
      "A\n"
     ]
    }
   ],
   "source": [
    "print_pattern(5, \"A\")"
   ]
  },
  {
   "cell_type": "code",
   "execution_count": null,
   "id": "fd4d6ffd",
   "metadata": {},
   "outputs": [],
   "source": []
  }
 ],
 "metadata": {
  "kernelspec": {
   "display_name": "Python 3",
   "language": "python",
   "name": "python3"
  },
  "language_info": {
   "codemirror_mode": {
    "name": "ipython",
    "version": 3
   },
   "file_extension": ".py",
   "mimetype": "text/x-python",
   "name": "python",
   "nbconvert_exporter": "python",
   "pygments_lexer": "ipython3",
   "version": "3.8.8"
  }
 },
 "nbformat": 4,
 "nbformat_minor": 5
}
