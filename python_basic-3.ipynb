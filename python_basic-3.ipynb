{
 "cells": [
  {
   "cell_type": "code",
   "execution_count": 1,
   "id": "23e42bdd",
   "metadata": {},
   "outputs": [
    {
     "name": "stdout",
     "output_type": "stream",
     "text": [
      "This is my favorite color\n"
     ]
    }
   ],
   "source": [
    "a = \"Blue\"\n",
    "\n",
    "if a == \"Blue\":\n",
    "    print(\"This is my favorite color\")"
   ]
  },
  {
   "cell_type": "code",
   "execution_count": 2,
   "id": "9f4cabb4",
   "metadata": {},
   "outputs": [
    {
     "name": "stdout",
     "output_type": "stream",
     "text": [
      "End\n"
     ]
    }
   ],
   "source": [
    "x = 5\n",
    "\n",
    "if x > 9:\n",
    "    print(\"Hello!\")\n",
    "\n",
    "print(\"End\")"
   ]
  },
  {
   "cell_type": "code",
   "execution_count": 3,
   "id": "72122940",
   "metadata": {},
   "outputs": [
    {
     "name": "stdout",
     "output_type": "stream",
     "text": [
      "Hello!\n",
      "End\n"
     ]
    }
   ],
   "source": [
    "x = 15\n",
    "\n",
    "if x > 9:\n",
    "    print(\"Hello!\")\n",
    "\n",
    "print(\"End\")"
   ]
  },
  {
   "cell_type": "code",
   "execution_count": 4,
   "id": "c8a884d4",
   "metadata": {},
   "outputs": [
    {
     "name": "stdout",
     "output_type": "stream",
     "text": [
      "That is my favorite season too!\n"
     ]
    }
   ],
   "source": [
    "season = \"Summer\"\n",
    "\n",
    "if season == \"Summer\":\n",
    "    print(\"That is my favorite season too!\")"
   ]
  },
  {
   "cell_type": "code",
   "execution_count": 5,
   "id": "a668461d",
   "metadata": {},
   "outputs": [
    {
     "name": "stdout",
     "output_type": "stream",
     "text": [
      "Bye!\n",
      "End\n"
     ]
    }
   ],
   "source": [
    "x = 16\n",
    "\n",
    "if x < 9:\n",
    "    print(\"Hello!\")\n",
    "elif x < 15:\n",
    "    print(\"It's great to see you\")\n",
    "else:\n",
    "    print(\"Bye!\")\n",
    "\n",
    "print(\"End\")"
   ]
  },
  {
   "cell_type": "code",
   "execution_count": 6,
   "id": "7e680a10",
   "metadata": {},
   "outputs": [
    {
     "name": "stdout",
     "output_type": "stream",
     "text": [
      "\n",
      "Python\n",
      "PythonPython\n",
      "PythonPythonPython\n",
      "PythonPythonPythonPython\n",
      "PythonPythonPythonPythonPython\n",
      "PythonPythonPythonPythonPythonPython\n",
      "PythonPythonPythonPythonPythonPythonPython\n"
     ]
    }
   ],
   "source": [
    "for num in range(8):\n",
    "\tprint(\"Python\" * num)"
   ]
  },
  {
   "cell_type": "code",
   "execution_count": null,
   "id": "b08d26b9",
   "metadata": {},
   "outputs": [],
   "source": []
  }
 ],
 "metadata": {
  "kernelspec": {
   "display_name": "Python 3",
   "language": "python",
   "name": "python3"
  },
  "language_info": {
   "codemirror_mode": {
    "name": "ipython",
    "version": 3
   },
   "file_extension": ".py",
   "mimetype": "text/x-python",
   "name": "python",
   "nbconvert_exporter": "python",
   "pygments_lexer": "ipython3",
   "version": "3.8.8"
  }
 },
 "nbformat": 4,
 "nbformat_minor": 5
}
